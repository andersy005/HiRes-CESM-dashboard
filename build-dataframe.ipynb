{
 "cells": [
  {
   "cell_type": "code",
   "execution_count": 1,
   "metadata": {},
   "outputs": [],
   "source": [
    "from pathlib import Path\n",
    "import pandas as pd\n",
    "import fsspec"
   ]
  },
  {
   "cell_type": "code",
   "execution_count": 2,
   "metadata": {},
   "outputs": [],
   "source": [
    "image_bucket = \"ncar-cesm-pop-test/images\"\n",
    "fs = fsspec.filesystem(\"s3\", anon=True)"
   ]
  },
  {
   "cell_type": "code",
   "execution_count": 3,
   "metadata": {},
   "outputs": [
    {
     "data": {
      "text/plain": [
       "4633"
      ]
     },
     "execution_count": 3,
     "metadata": {},
     "output_type": "execute_result"
    }
   ],
   "source": [
    "files = fs.glob(f\"{image_bucket}/g.e22*/*/*.png\")\n",
    "len(files)"
   ]
  },
  {
   "cell_type": "code",
   "execution_count": 4,
   "metadata": {},
   "outputs": [],
   "source": [
    "def parse_file(file):\n",
    "    path = file\n",
    "    file = Path(file)\n",
    "    x = dict(path=f\"s3://{path}\")\n",
    "    if \"checkpoint\" in path:\n",
    "        return {}\n",
    "    plot_type = file.parent.stem\n",
    "    casename = file.parent.parent.parts[-1]\n",
    "    x[\"casename\"] = casename\n",
    "    x[\"plot_type\"] = plot_type\n",
    "    parts = file.stem.split(\"+\")\n",
    "    x[\"varname\"] = parts[0]\n",
    "    if plot_type == \"timestep-global-map\":\n",
    "        x[\"plot_type\"] = plot_type\n",
    "        x[\"time\"] = parts[1]\n",
    "    if len(parts) > 2:\n",
    "        if plot_type == \"global-timeseries\":\n",
    "            idx = 1\n",
    "        else:\n",
    "            idx = 2\n",
    "        for part in parts[idx:]:\n",
    "            y = part.split(\"@\")\n",
    "            x[y[0]] = y[1]\n",
    "            if y[0].startswith(\"z_t\"):\n",
    "                x[\"depth_level\"] = y[1]\n",
    "    return x\n",
    "\n",
    "\n",
    "entries = [parse_file(file) for file in files]"
   ]
  },
  {
   "cell_type": "code",
   "execution_count": 5,
   "metadata": {},
   "outputs": [
    {
     "data": {
      "text/html": [
       "<div>\n",
       "<style scoped>\n",
       "    .dataframe tbody tr th:only-of-type {\n",
       "        vertical-align: middle;\n",
       "    }\n",
       "\n",
       "    .dataframe tbody tr th {\n",
       "        vertical-align: top;\n",
       "    }\n",
       "\n",
       "    .dataframe thead th {\n",
       "        text-align: right;\n",
       "    }\n",
       "</style>\n",
       "<table border=\"1\" class=\"dataframe\">\n",
       "  <thead>\n",
       "    <tr style=\"text-align: right;\">\n",
       "      <th></th>\n",
       "      <th>path</th>\n",
       "      <th>casename</th>\n",
       "      <th>plot_type</th>\n",
       "      <th>varname</th>\n",
       "      <th>spatial_op</th>\n",
       "      <th>time_coarsen_len</th>\n",
       "      <th>z_t</th>\n",
       "      <th>depth_level</th>\n",
       "      <th>z_t_150m</th>\n",
       "      <th>log_10</th>\n",
       "      <th>time_range</th>\n",
       "      <th>time</th>\n",
       "    </tr>\n",
       "  </thead>\n",
       "  <tbody>\n",
       "    <tr>\n",
       "      <th>0</th>\n",
       "      <td>s3://ncar-cesm-pop-test/images/g.e22.G1850ECO_...</td>\n",
       "      <td>g.e22.G1850ECO_JRA_HR.TL319_t13.003</td>\n",
       "      <td>global-timeseries</td>\n",
       "      <td>CaCO3_FLUX_100m</td>\n",
       "      <td>integrate</td>\n",
       "      <td>12</td>\n",
       "      <td>NaN</td>\n",
       "      <td>-9999.0</td>\n",
       "      <td>NaN</td>\n",
       "      <td>False</td>\n",
       "      <td>NaN</td>\n",
       "      <td>NaN</td>\n",
       "    </tr>\n",
       "    <tr>\n",
       "      <th>1</th>\n",
       "      <td>s3://ncar-cesm-pop-test/images/g.e22.G1850ECO_...</td>\n",
       "      <td>g.e22.G1850ECO_JRA_HR.TL319_t13.003</td>\n",
       "      <td>global-timeseries</td>\n",
       "      <td>DpCO2</td>\n",
       "      <td>average</td>\n",
       "      <td>12</td>\n",
       "      <td>NaN</td>\n",
       "      <td>-9999.0</td>\n",
       "      <td>NaN</td>\n",
       "      <td>False</td>\n",
       "      <td>NaN</td>\n",
       "      <td>NaN</td>\n",
       "    </tr>\n",
       "    <tr>\n",
       "      <th>2</th>\n",
       "      <td>s3://ncar-cesm-pop-test/images/g.e22.G1850ECO_...</td>\n",
       "      <td>g.e22.G1850ECO_JRA_HR.TL319_t13.003</td>\n",
       "      <td>global-timeseries</td>\n",
       "      <td>FG_CO2</td>\n",
       "      <td>integrate</td>\n",
       "      <td>12</td>\n",
       "      <td>NaN</td>\n",
       "      <td>-9999.0</td>\n",
       "      <td>NaN</td>\n",
       "      <td>False</td>\n",
       "      <td>NaN</td>\n",
       "      <td>NaN</td>\n",
       "    </tr>\n",
       "    <tr>\n",
       "      <th>3</th>\n",
       "      <td>s3://ncar-cesm-pop-test/images/g.e22.G1850ECO_...</td>\n",
       "      <td>g.e22.G1850ECO_JRA_HR.TL319_t13.003</td>\n",
       "      <td>global-timeseries</td>\n",
       "      <td>NH4</td>\n",
       "      <td>average</td>\n",
       "      <td>12</td>\n",
       "      <td>500.0</td>\n",
       "      <td>500.0</td>\n",
       "      <td>NaN</td>\n",
       "      <td>False</td>\n",
       "      <td>NaN</td>\n",
       "      <td>NaN</td>\n",
       "    </tr>\n",
       "    <tr>\n",
       "      <th>4</th>\n",
       "      <td>s3://ncar-cesm-pop-test/images/g.e22.G1850ECO_...</td>\n",
       "      <td>g.e22.G1850ECO_JRA_HR.TL319_t13.003</td>\n",
       "      <td>global-timeseries</td>\n",
       "      <td>NHx_SURFACE_EMIS</td>\n",
       "      <td>integrate</td>\n",
       "      <td>12</td>\n",
       "      <td>NaN</td>\n",
       "      <td>-9999.0</td>\n",
       "      <td>NaN</td>\n",
       "      <td>False</td>\n",
       "      <td>NaN</td>\n",
       "      <td>NaN</td>\n",
       "    </tr>\n",
       "  </tbody>\n",
       "</table>\n",
       "</div>"
      ],
      "text/plain": [
       "                                                path  \\\n",
       "0  s3://ncar-cesm-pop-test/images/g.e22.G1850ECO_...   \n",
       "1  s3://ncar-cesm-pop-test/images/g.e22.G1850ECO_...   \n",
       "2  s3://ncar-cesm-pop-test/images/g.e22.G1850ECO_...   \n",
       "3  s3://ncar-cesm-pop-test/images/g.e22.G1850ECO_...   \n",
       "4  s3://ncar-cesm-pop-test/images/g.e22.G1850ECO_...   \n",
       "\n",
       "                              casename          plot_type           varname  \\\n",
       "0  g.e22.G1850ECO_JRA_HR.TL319_t13.003  global-timeseries   CaCO3_FLUX_100m   \n",
       "1  g.e22.G1850ECO_JRA_HR.TL319_t13.003  global-timeseries             DpCO2   \n",
       "2  g.e22.G1850ECO_JRA_HR.TL319_t13.003  global-timeseries            FG_CO2   \n",
       "3  g.e22.G1850ECO_JRA_HR.TL319_t13.003  global-timeseries               NH4   \n",
       "4  g.e22.G1850ECO_JRA_HR.TL319_t13.003  global-timeseries  NHx_SURFACE_EMIS   \n",
       "\n",
       "  spatial_op time_coarsen_len    z_t  depth_level  z_t_150m  log_10  \\\n",
       "0  integrate               12    NaN      -9999.0       NaN   False   \n",
       "1    average               12    NaN      -9999.0       NaN   False   \n",
       "2  integrate               12    NaN      -9999.0       NaN   False   \n",
       "3    average               12  500.0        500.0       NaN   False   \n",
       "4  integrate               12    NaN      -9999.0       NaN   False   \n",
       "\n",
       "  time_range time  \n",
       "0        NaN  NaN  \n",
       "1        NaN  NaN  \n",
       "2        NaN  NaN  \n",
       "3        NaN  NaN  \n",
       "4        NaN  NaN  "
      ]
     },
     "execution_count": 5,
     "metadata": {},
     "output_type": "execute_result"
    }
   ],
   "source": [
    "df = pd.DataFrame(entries).dropna(subset=[\"path\"])\n",
    "\n",
    "df[\"z_t\"] = df[\"z_t\"].astype(float)\n",
    "df[\"z_t_150m\"] = df[\"z_t_150m\"].astype(float)\n",
    "df[\"depth_level\"] = df[\"depth_level\"].astype(float)\n",
    "df[\"depth_level\"] = df[\"depth_level\"].fillna(-9999)\n",
    "df[\"log_10\"] = df.log_10.map(lambda x: True if x == \"True\" else False)\n",
    "df.head()"
   ]
  },
  {
   "cell_type": "code",
   "execution_count": 6,
   "metadata": {},
   "outputs": [],
   "source": [
    "df.to_csv(\"HiRes-CESM-analysis.csv\", index=False)"
   ]
  }
 ],
 "metadata": {
  "kernelspec": {
   "display_name": "Python 3",
   "language": "python",
   "name": "python3"
  },
  "language_info": {
   "codemirror_mode": {
    "name": "ipython",
    "version": 3
   },
   "file_extension": ".py",
   "mimetype": "text/x-python",
   "name": "python",
   "nbconvert_exporter": "python",
   "pygments_lexer": "ipython3",
   "version": "3.8.5"
  },
  "widgets": {
   "application/vnd.jupyter.widget-state+json": {
    "state": {},
    "version_major": 2,
    "version_minor": 0
   }
  }
 },
 "nbformat": 4,
 "nbformat_minor": 4
}
